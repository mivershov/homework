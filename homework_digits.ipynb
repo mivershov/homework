{
 "cells": [
  {
   "cell_type": "code",
   "execution_count": 1,
   "metadata": {
    "collapsed": true
   },
   "outputs": [],
   "source": [
    "import pandas as pd"
   ]
  },
  {
   "cell_type": "code",
   "execution_count": 11,
   "metadata": {
    "collapsed": true
   },
   "outputs": [],
   "source": [
    "import warnings\n",
    "warnings.simplefilter('ignore')"
   ]
  },
  {
   "cell_type": "code",
   "execution_count": 2,
   "metadata": {
    "collapsed": true
   },
   "outputs": [],
   "source": [
    "from sklearn.datasets import load_digits"
   ]
  },
  {
   "cell_type": "code",
   "execution_count": 3,
   "metadata": {
    "collapsed": true
   },
   "outputs": [],
   "source": [
    "data = load_digits()"
   ]
  },
  {
   "cell_type": "code",
   "execution_count": 4,
   "metadata": {},
   "outputs": [
    {
     "data": {
      "text/plain": [
       "dict_keys(['data', 'target', 'target_names', 'images', 'DESCR'])"
      ]
     },
     "execution_count": 4,
     "metadata": {},
     "output_type": "execute_result"
    }
   ],
   "source": [
    "data.keys()"
   ]
  },
  {
   "cell_type": "code",
   "execution_count": 18,
   "metadata": {},
   "outputs": [
    {
     "data": {
      "text/plain": [
       "(1797, 64)"
      ]
     },
     "execution_count": 18,
     "metadata": {},
     "output_type": "execute_result"
    }
   ],
   "source": [
    "X = pd.DataFrame( data['data'])\n",
    "X.shape"
   ]
  },
  {
   "cell_type": "code",
   "execution_count": 8,
   "metadata": {
    "collapsed": true
   },
   "outputs": [],
   "source": [
    "y = pd.Series( data['target'])"
   ]
  },
  {
   "cell_type": "code",
   "execution_count": 9,
   "metadata": {},
   "outputs": [
    {
     "data": {
      "text/html": [
       "<div>\n",
       "<style>\n",
       "    .dataframe thead tr:only-child th {\n",
       "        text-align: right;\n",
       "    }\n",
       "\n",
       "    .dataframe thead th {\n",
       "        text-align: left;\n",
       "    }\n",
       "\n",
       "    .dataframe tbody tr th {\n",
       "        vertical-align: top;\n",
       "    }\n",
       "</style>\n",
       "<table border=\"1\" class=\"dataframe\">\n",
       "  <thead>\n",
       "    <tr style=\"text-align: right;\">\n",
       "      <th></th>\n",
       "      <th>0</th>\n",
       "      <th>1</th>\n",
       "      <th>2</th>\n",
       "      <th>3</th>\n",
       "      <th>4</th>\n",
       "      <th>5</th>\n",
       "      <th>6</th>\n",
       "      <th>7</th>\n",
       "      <th>8</th>\n",
       "      <th>9</th>\n",
       "    </tr>\n",
       "  </thead>\n",
       "  <tbody>\n",
       "    <tr>\n",
       "      <th>0</th>\n",
       "      <td>1</td>\n",
       "      <td>0</td>\n",
       "      <td>0</td>\n",
       "      <td>0</td>\n",
       "      <td>0</td>\n",
       "      <td>0</td>\n",
       "      <td>0</td>\n",
       "      <td>0</td>\n",
       "      <td>0</td>\n",
       "      <td>0</td>\n",
       "    </tr>\n",
       "    <tr>\n",
       "      <th>1</th>\n",
       "      <td>0</td>\n",
       "      <td>1</td>\n",
       "      <td>0</td>\n",
       "      <td>0</td>\n",
       "      <td>0</td>\n",
       "      <td>0</td>\n",
       "      <td>0</td>\n",
       "      <td>0</td>\n",
       "      <td>0</td>\n",
       "      <td>0</td>\n",
       "    </tr>\n",
       "    <tr>\n",
       "      <th>2</th>\n",
       "      <td>0</td>\n",
       "      <td>0</td>\n",
       "      <td>1</td>\n",
       "      <td>0</td>\n",
       "      <td>0</td>\n",
       "      <td>0</td>\n",
       "      <td>0</td>\n",
       "      <td>0</td>\n",
       "      <td>0</td>\n",
       "      <td>0</td>\n",
       "    </tr>\n",
       "    <tr>\n",
       "      <th>3</th>\n",
       "      <td>0</td>\n",
       "      <td>0</td>\n",
       "      <td>0</td>\n",
       "      <td>1</td>\n",
       "      <td>0</td>\n",
       "      <td>0</td>\n",
       "      <td>0</td>\n",
       "      <td>0</td>\n",
       "      <td>0</td>\n",
       "      <td>0</td>\n",
       "    </tr>\n",
       "    <tr>\n",
       "      <th>4</th>\n",
       "      <td>0</td>\n",
       "      <td>0</td>\n",
       "      <td>0</td>\n",
       "      <td>0</td>\n",
       "      <td>1</td>\n",
       "      <td>0</td>\n",
       "      <td>0</td>\n",
       "      <td>0</td>\n",
       "      <td>0</td>\n",
       "      <td>0</td>\n",
       "    </tr>\n",
       "  </tbody>\n",
       "</table>\n",
       "</div>"
      ],
      "text/plain": [
       "   0  1  2  3  4  5  6  7  8  9\n",
       "0  1  0  0  0  0  0  0  0  0  0\n",
       "1  0  1  0  0  0  0  0  0  0  0\n",
       "2  0  0  1  0  0  0  0  0  0  0\n",
       "3  0  0  0  1  0  0  0  0  0  0\n",
       "4  0  0  0  0  1  0  0  0  0  0"
      ]
     },
     "execution_count": 9,
     "metadata": {},
     "output_type": "execute_result"
    }
   ],
   "source": [
    "Ydummy = pd.get_dummies( y )\n",
    "Ydummy.head()"
   ]
  },
  {
   "cell_type": "code",
   "execution_count": 12,
   "metadata": {},
   "outputs": [],
   "source": [
    "from sklearn.tree import DecisionTreeClassifier\n",
    "from sklearn.neighbors import KNeighborsClassifier\n",
    "from sklearn.linear_model import LogisticRegression\n",
    "from sklearn.grid_search import GridSearchCV"
   ]
  },
  {
   "cell_type": "markdown",
   "metadata": {},
   "source": [
    "# DecisionTreeClassifier:\n",
    "best score: 0.8347245409015025\n",
    "\n",
    "best params: {'entropy': 'gini', 'max_depth': 10}"
   ]
  },
  {
   "cell_type": "code",
   "execution_count": 62,
   "metadata": {
    "collapsed": true
   },
   "outputs": [],
   "source": [
    "max_depth = list(range(1, 31))"
   ]
  },
  {
   "cell_type": "code",
   "execution_count": 63,
   "metadata": {
    "collapsed": true
   },
   "outputs": [],
   "source": [
    "criterion = ['gini', 'entropy']"
   ]
  },
  {
   "cell_type": "code",
   "execution_count": 64,
   "metadata": {
    "collapsed": true
   },
   "outputs": [],
   "source": [
    "param_grid = dict(max_depth = max_depth, criterion = criterion)"
   ]
  },
  {
   "cell_type": "code",
   "execution_count": 70,
   "metadata": {
    "collapsed": true
   },
   "outputs": [],
   "source": [
    "tree = DecisionTreeClassifier(random_state=0)"
   ]
  },
  {
   "cell_type": "code",
   "execution_count": 87,
   "metadata": {},
   "outputs": [
    {
     "data": {
      "text/plain": [
       "GridSearchCV(cv=10, error_score='raise',\n",
       "       estimator=DecisionTreeClassifier(class_weight=None, criterion='gini', max_depth=None,\n",
       "            max_features=None, max_leaf_nodes=None,\n",
       "            min_impurity_decrease=0.0, min_impurity_split=None,\n",
       "            min_samples_leaf=1, min_samples_split=2,\n",
       "            min_weight_fraction_leaf=0.0, presort=False, random_state=0,\n",
       "            splitter='best'),\n",
       "       fit_params={}, iid=True, n_jobs=1,\n",
       "       param_grid={'max_depth': [1, 2, 3, 4, 5, 6, 7, 8, 9, 10, 11, 12, 13, 14, 15, 16, 17, 18, 19, 20, 21, 22, 23, 24, 25, 26, 27, 28, 29, 30], 'criterion': ['gini', 'entropy']},\n",
       "       pre_dispatch='2*n_jobs', refit=True, scoring='accuracy', verbose=0)"
      ]
     },
     "execution_count": 87,
     "metadata": {},
     "output_type": "execute_result"
    }
   ],
   "source": [
    "grid = GridSearchCV(tree, param_grid = param_grid, cv = 10, scoring = 'accuracy')\n",
    "grid.fit( X, Ydummy )"
   ]
  },
  {
   "cell_type": "code",
   "execution_count": 88,
   "metadata": {},
   "outputs": [
    {
     "data": {
      "text/plain": [
       "[mean: 0.09683, std: 0.00746, params: {'criterion': 'gini', 'max_depth': 1},\n",
       " mean: 0.12298, std: 0.02197, params: {'criterion': 'gini', 'max_depth': 2},\n",
       " mean: 0.37451, std: 0.03097, params: {'criterion': 'gini', 'max_depth': 3},\n",
       " mean: 0.44686, std: 0.03072, params: {'criterion': 'gini', 'max_depth': 4},\n",
       " mean: 0.47913, std: 0.03313, params: {'criterion': 'gini', 'max_depth': 5},\n",
       " mean: 0.67446, std: 0.04603, params: {'criterion': 'gini', 'max_depth': 6},\n",
       " mean: 0.77741, std: 0.05359, params: {'criterion': 'gini', 'max_depth': 7},\n",
       " mean: 0.79911, std: 0.04867, params: {'criterion': 'gini', 'max_depth': 8},\n",
       " mean: 0.81302, std: 0.04615, params: {'criterion': 'gini', 'max_depth': 9},\n",
       " mean: 0.82137, std: 0.03787, params: {'criterion': 'gini', 'max_depth': 10},\n",
       " mean: 0.83027, std: 0.03494, params: {'criterion': 'gini', 'max_depth': 11},\n",
       " mean: 0.82693, std: 0.03534, params: {'criterion': 'gini', 'max_depth': 12},\n",
       " mean: 0.82693, std: 0.03429, params: {'criterion': 'gini', 'max_depth': 13},\n",
       " mean: 0.82749, std: 0.03382, params: {'criterion': 'gini', 'max_depth': 14},\n",
       " mean: 0.82693, std: 0.03641, params: {'criterion': 'gini', 'max_depth': 15},\n",
       " mean: 0.82693, std: 0.03641, params: {'criterion': 'gini', 'max_depth': 16},\n",
       " mean: 0.82693, std: 0.03641, params: {'criterion': 'gini', 'max_depth': 17},\n",
       " mean: 0.82693, std: 0.03641, params: {'criterion': 'gini', 'max_depth': 18},\n",
       " mean: 0.82693, std: 0.03641, params: {'criterion': 'gini', 'max_depth': 19},\n",
       " mean: 0.82693, std: 0.03641, params: {'criterion': 'gini', 'max_depth': 20},\n",
       " mean: 0.82693, std: 0.03641, params: {'criterion': 'gini', 'max_depth': 21},\n",
       " mean: 0.82693, std: 0.03641, params: {'criterion': 'gini', 'max_depth': 22},\n",
       " mean: 0.82693, std: 0.03641, params: {'criterion': 'gini', 'max_depth': 23},\n",
       " mean: 0.82693, std: 0.03641, params: {'criterion': 'gini', 'max_depth': 24},\n",
       " mean: 0.82693, std: 0.03641, params: {'criterion': 'gini', 'max_depth': 25},\n",
       " mean: 0.82693, std: 0.03641, params: {'criterion': 'gini', 'max_depth': 26},\n",
       " mean: 0.82693, std: 0.03641, params: {'criterion': 'gini', 'max_depth': 27},\n",
       " mean: 0.82693, std: 0.03641, params: {'criterion': 'gini', 'max_depth': 28},\n",
       " mean: 0.82693, std: 0.03641, params: {'criterion': 'gini', 'max_depth': 29},\n",
       " mean: 0.82693, std: 0.03641, params: {'criterion': 'gini', 'max_depth': 30},\n",
       " mean: 0.00000, std: 0.00000, params: {'criterion': 'entropy', 'max_depth': 1},\n",
       " mean: 0.12410, std: 0.06751, params: {'criterion': 'entropy', 'max_depth': 2},\n",
       " mean: 0.35337, std: 0.07073, params: {'criterion': 'entropy', 'max_depth': 3},\n",
       " mean: 0.54146, std: 0.09228, params: {'criterion': 'entropy', 'max_depth': 4},\n",
       " mean: 0.68726, std: 0.06952, params: {'criterion': 'entropy', 'max_depth': 5},\n",
       " mean: 0.73901, std: 0.04927, params: {'criterion': 'entropy', 'max_depth': 6},\n",
       " mean: 0.78186, std: 0.05182, params: {'criterion': 'entropy', 'max_depth': 7},\n",
       " mean: 0.81803, std: 0.04384, params: {'criterion': 'entropy', 'max_depth': 8},\n",
       " mean: 0.82860, std: 0.04404, params: {'criterion': 'entropy', 'max_depth': 9},\n",
       " mean: 0.83472, std: 0.03919, params: {'criterion': 'entropy', 'max_depth': 10},\n",
       " mean: 0.83083, std: 0.03559, params: {'criterion': 'entropy', 'max_depth': 11},\n",
       " mean: 0.83139, std: 0.03630, params: {'criterion': 'entropy', 'max_depth': 12},\n",
       " mean: 0.83139, std: 0.03630, params: {'criterion': 'entropy', 'max_depth': 13},\n",
       " mean: 0.83139, std: 0.03630, params: {'criterion': 'entropy', 'max_depth': 14},\n",
       " mean: 0.83139, std: 0.03630, params: {'criterion': 'entropy', 'max_depth': 15},\n",
       " mean: 0.83139, std: 0.03630, params: {'criterion': 'entropy', 'max_depth': 16},\n",
       " mean: 0.83139, std: 0.03630, params: {'criterion': 'entropy', 'max_depth': 17},\n",
       " mean: 0.83139, std: 0.03630, params: {'criterion': 'entropy', 'max_depth': 18},\n",
       " mean: 0.83139, std: 0.03630, params: {'criterion': 'entropy', 'max_depth': 19},\n",
       " mean: 0.83139, std: 0.03630, params: {'criterion': 'entropy', 'max_depth': 20},\n",
       " mean: 0.83139, std: 0.03630, params: {'criterion': 'entropy', 'max_depth': 21},\n",
       " mean: 0.83139, std: 0.03630, params: {'criterion': 'entropy', 'max_depth': 22},\n",
       " mean: 0.83139, std: 0.03630, params: {'criterion': 'entropy', 'max_depth': 23},\n",
       " mean: 0.83139, std: 0.03630, params: {'criterion': 'entropy', 'max_depth': 24},\n",
       " mean: 0.83139, std: 0.03630, params: {'criterion': 'entropy', 'max_depth': 25},\n",
       " mean: 0.83139, std: 0.03630, params: {'criterion': 'entropy', 'max_depth': 26},\n",
       " mean: 0.83139, std: 0.03630, params: {'criterion': 'entropy', 'max_depth': 27},\n",
       " mean: 0.83139, std: 0.03630, params: {'criterion': 'entropy', 'max_depth': 28},\n",
       " mean: 0.83139, std: 0.03630, params: {'criterion': 'entropy', 'max_depth': 29},\n",
       " mean: 0.83139, std: 0.03630, params: {'criterion': 'entropy', 'max_depth': 30}]"
      ]
     },
     "execution_count": 88,
     "metadata": {},
     "output_type": "execute_result"
    }
   ],
   "source": [
    "grid.grid_scores_"
   ]
  },
  {
   "cell_type": "code",
   "execution_count": 89,
   "metadata": {},
   "outputs": [
    {
     "data": {
      "text/plain": [
       "0.8347245409015025"
      ]
     },
     "execution_count": 89,
     "metadata": {},
     "output_type": "execute_result"
    }
   ],
   "source": [
    "grid.best_score_"
   ]
  },
  {
   "cell_type": "code",
   "execution_count": 90,
   "metadata": {},
   "outputs": [
    {
     "data": {
      "text/plain": [
       "{'criterion': 'entropy', 'max_depth': 10}"
      ]
     },
     "execution_count": 90,
     "metadata": {},
     "output_type": "execute_result"
    }
   ],
   "source": [
    "grid.best_params_"
   ]
  },
  {
   "cell_type": "markdown",
   "metadata": {},
   "source": [
    "# KNeighborsClassifier:\n",
    "best score: 0.9760712298274903\n",
    "\n",
    "best params: {'n_neighbors': 1, 'weights': 'uniform'}"
   ]
  },
  {
   "cell_type": "code",
   "execution_count": 19,
   "metadata": {},
   "outputs": [],
   "source": [
    "n_neighbors = list(range(1,31))"
   ]
  },
  {
   "cell_type": "code",
   "execution_count": 23,
   "metadata": {},
   "outputs": [],
   "source": [
    "weights = ['uniform', 'distance']"
   ]
  },
  {
   "cell_type": "code",
   "execution_count": 28,
   "metadata": {},
   "outputs": [],
   "source": [
    "grid_param = dict(n_neighbors=n_neighbors, weights=weights)"
   ]
  },
  {
   "cell_type": "code",
   "execution_count": 29,
   "metadata": {
    "collapsed": true
   },
   "outputs": [],
   "source": [
    "knn = KNeighborsClassifier()"
   ]
  },
  {
   "cell_type": "code",
   "execution_count": 46,
   "metadata": {},
   "outputs": [
    {
     "data": {
      "text/plain": [
       "GridSearchCV(cv=10, error_score='raise',\n",
       "       estimator=KNeighborsClassifier(algorithm='auto', leaf_size=30, metric='minkowski',\n",
       "           metric_params=None, n_jobs=1, n_neighbors=5, p=2,\n",
       "           weights='uniform'),\n",
       "       fit_params={}, iid=True, n_jobs=1,\n",
       "       param_grid={'n_neighbors': [1, 2, 3, 4, 5, 6, 7, 8, 9, 10, 11, 12, 13, 14, 15, 16, 17, 18, 19, 20, 21, 22, 23, 24, 25, 26, 27, 28, 29, 30], 'weights': ['uniform', 'distance']},\n",
       "       pre_dispatch='2*n_jobs', refit=True, scoring='accuracy', verbose=0)"
      ]
     },
     "execution_count": 46,
     "metadata": {},
     "output_type": "execute_result"
    }
   ],
   "source": [
    "grid = GridSearchCV(knn, param_grid = grid_param, cv = 10, scoring = 'accuracy')\n",
    "grid.fit(X, Ydummy)"
   ]
  },
  {
   "cell_type": "code",
   "execution_count": 47,
   "metadata": {
    "scrolled": true
   },
   "outputs": [
    {
     "data": {
      "text/plain": [
       "[mean: 0.97607, std: 0.01759, params: {'n_neighbors': 1, 'weights': 'uniform'},\n",
       " mean: 0.97607, std: 0.01759, params: {'n_neighbors': 1, 'weights': 'distance'},\n",
       " mean: 0.95604, std: 0.02200, params: {'n_neighbors': 2, 'weights': 'uniform'},\n",
       " mean: 0.97607, std: 0.01759, params: {'n_neighbors': 2, 'weights': 'distance'},\n",
       " mean: 0.97607, std: 0.01829, params: {'n_neighbors': 3, 'weights': 'uniform'},\n",
       " mean: 0.97607, std: 0.01829, params: {'n_neighbors': 3, 'weights': 'distance'},\n",
       " mean: 0.95882, std: 0.01945, params: {'n_neighbors': 4, 'weights': 'uniform'},\n",
       " mean: 0.97607, std: 0.01811, params: {'n_neighbors': 4, 'weights': 'distance'},\n",
       " mean: 0.96939, std: 0.01673, params: {'n_neighbors': 5, 'weights': 'uniform'},\n",
       " mean: 0.96995, std: 0.01672, params: {'n_neighbors': 5, 'weights': 'distance'},\n",
       " mean: 0.96160, std: 0.01965, params: {'n_neighbors': 6, 'weights': 'uniform'},\n",
       " mean: 0.97218, std: 0.01741, params: {'n_neighbors': 6, 'weights': 'distance'},\n",
       " mean: 0.96550, std: 0.02047, params: {'n_neighbors': 7, 'weights': 'uniform'},\n",
       " mean: 0.96605, std: 0.02101, params: {'n_neighbors': 7, 'weights': 'distance'},\n",
       " mean: 0.95715, std: 0.01794, params: {'n_neighbors': 8, 'weights': 'uniform'},\n",
       " mean: 0.96717, std: 0.02057, params: {'n_neighbors': 8, 'weights': 'distance'},\n",
       " mean: 0.96272, std: 0.01860, params: {'n_neighbors': 9, 'weights': 'uniform'},\n",
       " mean: 0.96383, std: 0.01961, params: {'n_neighbors': 9, 'weights': 'distance'},\n",
       " mean: 0.95381, std: 0.02052, params: {'n_neighbors': 10, 'weights': 'uniform'},\n",
       " mean: 0.96550, std: 0.02076, params: {'n_neighbors': 10, 'weights': 'distance'},\n",
       " mean: 0.95993, std: 0.01892, params: {'n_neighbors': 11, 'weights': 'uniform'},\n",
       " mean: 0.96160, std: 0.01966, params: {'n_neighbors': 11, 'weights': 'distance'},\n",
       " mean: 0.95381, std: 0.02169, params: {'n_neighbors': 12, 'weights': 'uniform'},\n",
       " mean: 0.96327, std: 0.02114, params: {'n_neighbors': 12, 'weights': 'distance'},\n",
       " mean: 0.95938, std: 0.02184, params: {'n_neighbors': 13, 'weights': 'uniform'},\n",
       " mean: 0.96049, std: 0.02287, params: {'n_neighbors': 13, 'weights': 'distance'},\n",
       " mean: 0.95159, std: 0.02425, params: {'n_neighbors': 14, 'weights': 'uniform'},\n",
       " mean: 0.96272, std: 0.02171, params: {'n_neighbors': 14, 'weights': 'distance'},\n",
       " mean: 0.95715, std: 0.02212, params: {'n_neighbors': 15, 'weights': 'uniform'},\n",
       " mean: 0.95938, std: 0.02156, params: {'n_neighbors': 15, 'weights': 'distance'},\n",
       " mean: 0.94769, std: 0.02118, params: {'n_neighbors': 16, 'weights': 'uniform'},\n",
       " mean: 0.96327, std: 0.02130, params: {'n_neighbors': 16, 'weights': 'distance'},\n",
       " mean: 0.95381, std: 0.02376, params: {'n_neighbors': 17, 'weights': 'uniform'},\n",
       " mean: 0.95715, std: 0.02200, params: {'n_neighbors': 17, 'weights': 'distance'},\n",
       " mean: 0.94825, std: 0.02414, params: {'n_neighbors': 18, 'weights': 'uniform'},\n",
       " mean: 0.95548, std: 0.02428, params: {'n_neighbors': 18, 'weights': 'distance'},\n",
       " mean: 0.94936, std: 0.02470, params: {'n_neighbors': 19, 'weights': 'uniform'},\n",
       " mean: 0.95326, std: 0.02466, params: {'n_neighbors': 19, 'weights': 'distance'},\n",
       " mean: 0.94213, std: 0.02311, params: {'n_neighbors': 20, 'weights': 'uniform'},\n",
       " mean: 0.95214, std: 0.02379, params: {'n_neighbors': 20, 'weights': 'distance'},\n",
       " mean: 0.94324, std: 0.02319, params: {'n_neighbors': 21, 'weights': 'uniform'},\n",
       " mean: 0.94880, std: 0.02384, params: {'n_neighbors': 21, 'weights': 'distance'},\n",
       " mean: 0.93879, std: 0.02348, params: {'n_neighbors': 22, 'weights': 'uniform'},\n",
       " mean: 0.95103, std: 0.02461, params: {'n_neighbors': 22, 'weights': 'distance'},\n",
       " mean: 0.94380, std: 0.02405, params: {'n_neighbors': 23, 'weights': 'uniform'},\n",
       " mean: 0.94769, std: 0.02415, params: {'n_neighbors': 23, 'weights': 'distance'},\n",
       " mean: 0.93600, std: 0.02600, params: {'n_neighbors': 24, 'weights': 'uniform'},\n",
       " mean: 0.94602, std: 0.02464, params: {'n_neighbors': 24, 'weights': 'distance'},\n",
       " mean: 0.93990, std: 0.02688, params: {'n_neighbors': 25, 'weights': 'uniform'},\n",
       " mean: 0.94435, std: 0.02487, params: {'n_neighbors': 25, 'weights': 'distance'},\n",
       " mean: 0.93211, std: 0.02689, params: {'n_neighbors': 26, 'weights': 'uniform'},\n",
       " mean: 0.94602, std: 0.02362, params: {'n_neighbors': 26, 'weights': 'distance'},\n",
       " mean: 0.93600, std: 0.02491, params: {'n_neighbors': 27, 'weights': 'uniform'},\n",
       " mean: 0.94324, std: 0.02345, params: {'n_neighbors': 27, 'weights': 'distance'},\n",
       " mean: 0.92877, std: 0.02823, params: {'n_neighbors': 28, 'weights': 'uniform'},\n",
       " mean: 0.94324, std: 0.02306, params: {'n_neighbors': 28, 'weights': 'distance'},\n",
       " mean: 0.93155, std: 0.02654, params: {'n_neighbors': 29, 'weights': 'uniform'},\n",
       " mean: 0.94046, std: 0.02515, params: {'n_neighbors': 29, 'weights': 'distance'},\n",
       " mean: 0.92543, std: 0.02794, params: {'n_neighbors': 30, 'weights': 'uniform'},\n",
       " mean: 0.93879, std: 0.02690, params: {'n_neighbors': 30, 'weights': 'distance'}]"
      ]
     },
     "execution_count": 47,
     "metadata": {},
     "output_type": "execute_result"
    }
   ],
   "source": [
    "grid.grid_scores_"
   ]
  },
  {
   "cell_type": "code",
   "execution_count": 48,
   "metadata": {
    "scrolled": true
   },
   "outputs": [
    {
     "data": {
      "text/plain": [
       "0.9760712298274903"
      ]
     },
     "execution_count": 48,
     "metadata": {},
     "output_type": "execute_result"
    }
   ],
   "source": [
    "grid.best_score_"
   ]
  },
  {
   "cell_type": "code",
   "execution_count": 49,
   "metadata": {},
   "outputs": [
    {
     "data": {
      "text/plain": [
       "{'n_neighbors': 1, 'weights': 'uniform'}"
      ]
     },
     "execution_count": 49,
     "metadata": {},
     "output_type": "execute_result"
    }
   ],
   "source": [
    "grid.best_params_"
   ]
  },
  {
   "cell_type": "markdown",
   "metadata": {},
   "source": [
    "# LogisticRegression:\n",
    "best score: 0.9449081803005008\n",
    "\n",
    "best params: {'C': 0.1, 'penalty': 'l1'}"
   ]
  },
  {
   "cell_type": "code",
   "execution_count": 99,
   "metadata": {
    "collapsed": true
   },
   "outputs": [],
   "source": [
    "C_param_range = list([0.001, 0.01, 0.1, 1, 10, 100])"
   ]
  },
  {
   "cell_type": "code",
   "execution_count": 100,
   "metadata": {
    "collapsed": true
   },
   "outputs": [],
   "source": [
    "penalty = ['l1', 'l2']"
   ]
  },
  {
   "cell_type": "code",
   "execution_count": 101,
   "metadata": {
    "collapsed": true
   },
   "outputs": [],
   "source": [
    "lr = LogisticRegression(penalty = 'l1', C = 0.1, random_state=0)"
   ]
  },
  {
   "cell_type": "code",
   "execution_count": 102,
   "metadata": {
    "collapsed": true
   },
   "outputs": [],
   "source": [
    "grid_param = dict(penalty = penalty, C = C_param_range)"
   ]
  },
  {
   "cell_type": "code",
   "execution_count": 103,
   "metadata": {},
   "outputs": [
    {
     "data": {
      "text/plain": [
       "GridSearchCV(cv=10, error_score='raise',\n",
       "       estimator=LogisticRegression(C=0.1, class_weight=None, dual=False, fit_intercept=True,\n",
       "          intercept_scaling=1, max_iter=100, multi_class='ovr', n_jobs=1,\n",
       "          penalty='l1', random_state=0, solver='liblinear', tol=0.0001,\n",
       "          verbose=0, warm_start=False),\n",
       "       fit_params={}, iid=True, n_jobs=1,\n",
       "       param_grid={'penalty': ['l1', 'l2'], 'C': [0.001, 0.01, 0.1, 1, 10, 100]},\n",
       "       pre_dispatch='2*n_jobs', refit=True, scoring='accuracy', verbose=0)"
      ]
     },
     "execution_count": 103,
     "metadata": {},
     "output_type": "execute_result"
    }
   ],
   "source": [
    "grid = GridSearchCV(lr, param_grid = grid_param, cv = 10, scoring = 'accuracy')\n",
    "grid.fit(X, y)"
   ]
  },
  {
   "cell_type": "code",
   "execution_count": 104,
   "metadata": {},
   "outputs": [
    {
     "data": {
      "text/plain": [
       "[mean: 0.76962, std: 0.04973, params: {'C': 0.001, 'penalty': 'l1'},\n",
       " mean: 0.93434, std: 0.03457, params: {'C': 0.001, 'penalty': 'l2'},\n",
       " mean: 0.91653, std: 0.03810, params: {'C': 0.01, 'penalty': 'l1'},\n",
       " mean: 0.93767, std: 0.02980, params: {'C': 0.01, 'penalty': 'l2'},\n",
       " mean: 0.94491, std: 0.02409, params: {'C': 0.1, 'penalty': 'l1'},\n",
       " mean: 0.93600, std: 0.03245, params: {'C': 0.1, 'penalty': 'l2'},\n",
       " mean: 0.93100, std: 0.03255, params: {'C': 1, 'penalty': 'l1'},\n",
       " mean: 0.93100, std: 0.03478, params: {'C': 1, 'penalty': 'l2'},\n",
       " mean: 0.91931, std: 0.03233, params: {'C': 10, 'penalty': 'l1'},\n",
       " mean: 0.92432, std: 0.03661, params: {'C': 10, 'penalty': 'l2'},\n",
       " mean: 0.92321, std: 0.02471, params: {'C': 100, 'penalty': 'l1'},\n",
       " mean: 0.91597, std: 0.03723, params: {'C': 100, 'penalty': 'l2'}]"
      ]
     },
     "execution_count": 104,
     "metadata": {},
     "output_type": "execute_result"
    }
   ],
   "source": [
    "grid.grid_scores_"
   ]
  },
  {
   "cell_type": "code",
   "execution_count": 105,
   "metadata": {},
   "outputs": [
    {
     "data": {
      "text/plain": [
       "0.9449081803005008"
      ]
     },
     "execution_count": 105,
     "metadata": {},
     "output_type": "execute_result"
    }
   ],
   "source": [
    "grid.best_score_"
   ]
  },
  {
   "cell_type": "code",
   "execution_count": 106,
   "metadata": {},
   "outputs": [
    {
     "data": {
      "text/plain": [
       "{'C': 0.1, 'penalty': 'l1'}"
      ]
     },
     "execution_count": 106,
     "metadata": {},
     "output_type": "execute_result"
    }
   ],
   "source": [
    "grid.best_params_"
   ]
  },
  {
   "cell_type": "code",
   "execution_count": 107,
   "metadata": {},
   "outputs": [
    {
     "data": {
      "text/plain": [
       "LogisticRegression(C=0.1, class_weight=None, dual=False, fit_intercept=True,\n",
       "          intercept_scaling=1, max_iter=100, multi_class='ovr', n_jobs=1,\n",
       "          penalty='l1', random_state=0, solver='liblinear', tol=0.0001,\n",
       "          verbose=0, warm_start=False)"
      ]
     },
     "execution_count": 107,
     "metadata": {},
     "output_type": "execute_result"
    }
   ],
   "source": [
    "lr.fit ( X, y )"
   ]
  },
  {
   "cell_type": "code",
   "execution_count": 108,
   "metadata": {},
   "outputs": [
    {
     "data": {
      "text/plain": [
       "array([9, 0, 8, 9, 8])"
      ]
     },
     "execution_count": 108,
     "metadata": {},
     "output_type": "execute_result"
    }
   ],
   "source": [
    "lr.predict( X.tail())"
   ]
  },
  {
   "cell_type": "code",
   "execution_count": null,
   "metadata": {
    "collapsed": true
   },
   "outputs": [],
   "source": []
  }
 ],
 "metadata": {
  "kernelspec": {
   "display_name": "Python 3",
   "language": "python",
   "name": "python3"
  },
  "language_info": {
   "codemirror_mode": {
    "name": "ipython",
    "version": 3
   },
   "file_extension": ".py",
   "mimetype": "text/x-python",
   "name": "python",
   "nbconvert_exporter": "python",
   "pygments_lexer": "ipython3",
   "version": "3.6.2"
  }
 },
 "nbformat": 4,
 "nbformat_minor": 2
}
